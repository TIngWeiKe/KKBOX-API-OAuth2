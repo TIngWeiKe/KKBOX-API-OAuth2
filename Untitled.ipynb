{
 "cells": [
  {
   "cell_type": "code",
   "execution_count": 1,
   "metadata": {},
   "outputs": [],
   "source": [
    "import re"
   ]
  },
  {
   "cell_type": "code",
   "execution_count": 104,
   "metadata": {},
   "outputs": [
    {
     "data": {
      "text/plain": [
       "<re.Match object; span=(32, 70), match='?code=0662034c937bbe1470dbf66550ed138d'>"
      ]
     },
     "execution_count": 104,
     "metadata": {},
     "output_type": "execute_result"
    }
   ],
   "source": [
    "\n",
    "c = re.compile('[?&]+([^=&]+)=([^&]*)')\n",
    "strr = \"https://kkbox-api.herokuapp.com/?code=0662034c937bbe1470dbf66550ed138d&state=1234#_=_\"\n",
    "re.search(c, strr)\n",
    "stt[0,1] = 'aaa'+ att[2,10]"
   ]
  },
  {
   "cell_type": "code",
   "execution_count": 103,
   "metadata": {},
   "outputs": [
    {
     "name": "stdout",
     "output_type": "stream",
     "text": [
      "aaaaa a aaa aaaaaa\n"
     ]
    }
   ],
   "source": [
    "print(a)"
   ]
  },
  {
   "cell_type": "code",
   "execution_count": 45,
   "metadata": {},
   "outputs": [
    {
     "name": "stdout",
     "output_type": "stream",
     "text": [
      "John\n",
      "Smith\n",
      "smith\n",
      "john\n",
      "is\n"
     ]
    }
   ],
   "source": [
    "print('John\\nSmith\\nsmith\\njohn\\nis')"
   ]
  },
  {
   "cell_type": "code",
   "execution_count": null,
   "metadata": {},
   "outputs": [],
   "source": [
    "'https://kkbox-api.herokuapp.com/?code=0662034c937bbe1470dbf66550ed138d&state=1234#_=_'\n",
    "'0662034c937bbe1470dbf66550ed138d'"
   ]
  },
  {
   "cell_type": "code",
   "execution_count": 105,
   "metadata": {},
   "outputs": [],
   "source": [
    "str = \"2019-01-08T09:29:45+00:00\"\n",
    "time = str.split(\"T\")[0].split(\"-\")\n",
    "l = [\"年\",\"月\",\"日\"]\n",
    "s = \"\"\n",
    "for i,j in zip(time,l):\n",
    "    s += (i+j)"
   ]
  },
  {
   "cell_type": "code",
   "execution_count": 117,
   "metadata": {},
   "outputs": [
    {
     "name": "stdout",
     "output_type": "stream",
     "text": [
      "['09', '29', '45+00', '00']\n"
     ]
    },
    {
     "data": {
      "text/plain": [
       "'2019年01月08日  下午09:29'"
      ]
     },
     "execution_count": 117,
     "metadata": {},
     "output_type": "execute_result"
    }
   ],
   "source": [
    "subtime = str.split(\"T\")[1].split(\":\")\n",
    "s + \"  下午\" + \":\".join(subtime[:2])"
   ]
  },
  {
   "cell_type": "code",
   "execution_count": null,
   "metadata": {},
   "outputs": [],
   "source": []
  }
 ],
 "metadata": {
  "kernelspec": {
   "display_name": "Python 3",
   "language": "python",
   "name": "python3"
  },
  "language_info": {
   "codemirror_mode": {
    "name": "ipython",
    "version": 3
   },
   "file_extension": ".py",
   "mimetype": "text/x-python",
   "name": "python",
   "nbconvert_exporter": "python",
   "pygments_lexer": "ipython3",
   "version": "3.7.0"
  }
 },
 "nbformat": 4,
 "nbformat_minor": 2
}
